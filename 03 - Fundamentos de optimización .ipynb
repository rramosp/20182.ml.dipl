{
 "cells": [
  {
   "cell_type": "code",
   "execution_count": 1,
   "metadata": {},
   "outputs": [
    {
     "name": "stdout",
     "output_type": "stream",
     "text": [
      "1.9.0\n"
     ]
    }
   ],
   "source": [
    "import tensorflow as tf\n",
    "import numpy as np\n",
    "import matplotlib.pyplot as plt\n",
    "%matplotlib inline\n",
    "import pandas as pd\n",
    "print tf.__version__"
   ]
  },
  {
   "cell_type": "markdown",
   "metadata": {},
   "source": [
    "# Fundamentos de TensorFlow\n",
    "\n",
    "**Expresiones**\n",
    "- Las expresiones son construidas en términos de **variables** (para los parémetros, como $\\theta$) y **placeholders** (para los datos)\n",
    "\n",
    "- Cuando definimos las expresiones **construimos su grafo simbólico**, pero **no son evaluadas**\n",
    "\n",
    "- Las expresiones sólo son evaluadas **dentro de una sesión**\n",
    "\n",
    "- El proceso de **optimización** trata de encontrar valores de las **variables** que minimizan una cierta expresión. \n",
    "\n",
    "\n",
    "**Parámetros**\n",
    "- Las **variables** tienen un tamaño fijo, contienen los parámetros de un modelos, que luego pueden ser salvados o restaurados.\n",
    "\n",
    "- Las **variables** pueden tener un valor constante, pero normalmente se inicializan con algún valor aleatorio o determinado, y su contenido va variando durante el proceso de optimización.\n",
    "\n",
    "**Datos**\n",
    "- Los **placeholders** pueden ser matrices (tensores) con un número fijo de columnas, pero variable de filas, para poder evaluar las expresiones con distintos datasets.\n",
    "\n",
    "- Los **placeholders** no tienen valores iniciales, y hay que alimentarlos directamente con los datos\n",
    "\n",
    "\n",
    "\n",
    "**Gradientes**\n",
    "\n",
    "- TensorFlow calcula automáticamente los gradientes de las expresiones, que los obtiene simbólicamente. Normalmente los gradientes se calculan **respecto a los parámetros** (_placeholders_)\n"
   ]
  },
  {
   "cell_type": "markdown",
   "metadata": {},
   "source": [
    "## ¿Qué es el cálculo simbólico?\n",
    "\n",
    "la máquina manipula algebraicamente las expresiones como lo haríamos nosotros con lápiz y papel"
   ]
  },
  {
   "cell_type": "code",
   "execution_count": 2,
   "metadata": {},
   "outputs": [],
   "source": [
    "import sympy as sy\n",
    "sy.init_printing(use_latex=True)\n",
    "x,y = sy.symbols(\"x y\")"
   ]
  },
  {
   "cell_type": "code",
   "execution_count": 3,
   "metadata": {},
   "outputs": [
    {
     "data": {
      "image/png": "[encoded data removed]",
      "text/latex": [
       "$$\\left(x + 3 y\\right)^{2}$$"
      ],
      "text/plain": [
       "         2\n",
       "(x + 3⋅y) "
      ]
     },
     "execution_count": 3,
     "metadata": {},
     "output_type": "execute_result"
    }
   ],
   "source": [
    "expr = (x+3*y)**2\n",
    "expr"
   ]
  },
  {
   "cell_type": "code",
   "execution_count": 4,
   "metadata": {},
   "outputs": [
    {
     "data": {
      "image/png": "[encoded data removed]",
      "text/latex": [
       "$$x^{2} + 6 x y + 9 y^{2}$$"
      ],
      "text/plain": [
       " 2              2\n",
       "x  + 6⋅x⋅y + 9⋅y "
      ]
     },
     "execution_count": 4,
     "metadata": {},
     "output_type": "execute_result"
    }
   ],
   "source": [
    "expr.expand()"
   ]
  },
  {
   "cell_type": "markdown",
   "metadata": {},
   "source": [
    "derivadas"
   ]
  },
  {
   "cell_type": "code",
   "execution_count": 5,
   "metadata": {},
   "outputs": [
    {
     "data": {
      "image/png": "[encoded data removed]",
      "text/latex": [
       "$$2 x + 6 y$$"
      ],
      "text/plain": [
       "2⋅x + 6⋅y"
      ]
     },
     "execution_count": 5,
     "metadata": {},
     "output_type": "execute_result"
    }
   ],
   "source": [
    "expr.diff(x)"
   ]
  },
  {
   "cell_type": "code",
   "execution_count": 6,
   "metadata": {},
   "outputs": [
    {
     "data": {
      "image/png": "[encoded data removed]",
      "text/latex": [
       "$$6 x + 18 y$$"
      ],
      "text/plain": [
       "6⋅x + 18⋅y"
      ]
     },
     "execution_count": 6,
     "metadata": {},
     "output_type": "execute_result"
    }
   ],
   "source": [
    "expr.diff(y)"
   ]
  },
  {
   "cell_type": "markdown",
   "metadata": {},
   "source": [
    "resolvemos la ecuación cuando $=0$"
   ]
  },
  {
   "cell_type": "code",
   "execution_count": 7,
   "metadata": {},
   "outputs": [
    {
     "data": {
      "image/png": "[encoded data removed]",
      "text/latex": [
       "$$\\left [ \\left \\{ x : - 3 y\\right \\}\\right ]$$"
      ],
      "text/plain": [
       "[{x: -3⋅y}]"
      ]
     },
     "execution_count": 7,
     "metadata": {},
     "output_type": "execute_result"
    }
   ],
   "source": [
    "sy.solve(expr)"
   ]
  },
  {
   "cell_type": "markdown",
   "metadata": {},
   "source": [
    "pero **todo es simbólico** hasta que **explícitamente lo evaluamos**"
   ]
  },
  {
   "cell_type": "code",
   "execution_count": 8,
   "metadata": {},
   "outputs": [
    {
     "data": {
      "image/png": "[encoded data removed]",
      "text/latex": [
       "$$256$$"
      ],
      "text/plain": [
       "256"
      ]
     },
     "execution_count": 8,
     "metadata": {},
     "output_type": "execute_result"
    }
   ],
   "source": [
    "expr.subs({x:10, y:2})"
   ]
  },
  {
   "cell_type": "markdown",
   "metadata": {},
   "source": [
    "integramos simbólicamente"
   ]
  },
  {
   "cell_type": "code",
   "execution_count": 9,
   "metadata": {},
   "outputs": [
    {
     "data": {
      "image/png": "[encoded data removed]",
      "text/latex": [
       "$$\\frac{x^{3}}{3} + 3 x^{2} y + 9 x y^{2}$$"
      ],
      "text/plain": [
       " 3                  \n",
       "x       2          2\n",
       "── + 3⋅x ⋅y + 9⋅x⋅y \n",
       "3                   "
      ]
     },
     "execution_count": 9,
     "metadata": {},
     "output_type": "execute_result"
    }
   ],
   "source": [
    "expr.integrate(x)"
   ]
  },
  {
   "cell_type": "markdown",
   "metadata": {},
   "source": [
    "o evaluamos una integral definida. P.ej, sabemos que:\n",
    "\n",
    "$$\\int_{-1}^1 2\\sqrt{1-x^2} = \\pi$$"
   ]
  },
  {
   "cell_type": "code",
   "execution_count": 10,
   "metadata": {},
   "outputs": [
    {
     "data": {
      "image/png": "[encoded data removed]",
      "text/latex": [
       "$$2 \\sqrt{- x^{2} + 1}$$"
      ],
      "text/plain": [
       "     __________\n",
       "    ╱    2     \n",
       "2⋅╲╱  - x  + 1 "
      ]
     },
     "execution_count": 10,
     "metadata": {},
     "output_type": "execute_result"
    }
   ],
   "source": [
    "expr = 2*sy.sqrt(1-x**2)\n",
    "expr"
   ]
  },
  {
   "cell_type": "code",
   "execution_count": 11,
   "metadata": {},
   "outputs": [
    {
     "data": {
      "image/png": "[encoded data removed]",
      "text/latex": [
       "$$\\left ( \\pi, \\quad 3.14159265358979\\right )$$"
      ],
      "text/plain": [
       "(π, 3.14159265358979)"
      ]
     },
     "execution_count": 11,
     "metadata": {},
     "output_type": "execute_result"
    }
   ],
   "source": [
    "pi = expr.integrate( (x,-1,1))\n",
    "pi, sy.N(pi)"
   ]
  },
  {
   "cell_type": "code",
   "execution_count": 12,
   "metadata": {},
   "outputs": [],
   "source": [
    "sy.init_printing(use_latex=False)"
   ]
  },
  {
   "cell_type": "markdown",
   "metadata": {},
   "source": [
    "## Regresión Lineal con cálculo simbólico genérico\n",
    "\n",
    "Por ejemplo, para nuestro modelo de regresión lineal\n",
    "\n",
    "- $X \\in \\mathbb{R}^{m\\times 2} = \\{\\mathbf{x}^{(i)} \\in \\mathbb{R}^2\\}$, datos \n",
    "- $y \\in \\mathbb{R}^m = \\{y^{(i)} \\in \\mathbb{R}\\}$, etiquetas \n",
    "- $\\theta \\in \\mathbb{R}^2$, parámetros \n",
    "\n",
    "\n",
    "- $\\hat{y}^{(i)} = \\overline\\theta \\cdot \\mathbf{x}^{(i)}$: predicción del modelo ante la entrada $\\mathbf{x}^{(i)}$.\n",
    "\n",
    "$$J(\\overline\\theta;X,y) = \\frac{1}{m}\\sum_{i=0}^{m-1} (\\overline\\theta \\cdot \\mathbf{x}^{(i)} - y^{(i)})^2$$\n",
    "\n",
    "\n",
    "$$\\nabla J (\\overline\\theta; X,y) = \\begin{bmatrix}\n",
    "\\frac{\\partial J}{\\partial \\theta_0}\\\\\n",
    "\\frac{\\partial J}{\\partial \\theta_1}\n",
    "\\end{bmatrix} = \\frac{1}{m}2X^{T}\\cdot(X\\cdot\\overline\\theta-Y)$$\n",
    "\n",
    "recuerda que\n",
    "- $\\overline{\\theta} = [\\theta_0, \\theta_1]$\n",
    "- $\\mathbf{x}^{(i)} = [1, x^{(i)}]$"
   ]
  },
  {
   "cell_type": "code",
   "execution_count": 36,
   "metadata": {},
   "outputs": [
    {
     "data": {
      "text/plain": [
       "<matplotlib.collections.PathCollection at 0x7f6b172b8850>"
      ]
     },
     "execution_count": 36,
     "metadata": {},
     "output_type": "execute_result"
    },
    {
     "data": {
      "image/png": "[encoded data removed]",
      "text/plain": [
       "<Figure size 432x288 with 1 Axes>"
      ]
     },
     "metadata": {},
     "output_type": "display_data"
    }
   ],
   "source": [
    "d = pd.read_csv(\"data/trilotropicos.csv\")\n",
    "X_data = np.r_[[[1]*len(d), d.longitud]].T\n",
    "y_data = d.densidad_escamas.values\n",
    "plt.scatter(d.longitud, d.densidad_escamas)"
   ]
  },
  {
   "cell_type": "code",
   "execution_count": 39,
   "metadata": {},
   "outputs": [
    {
     "name": "stdout",
     "output_type": "stream",
     "text": [
      "      fun: 411.7149385620175\n",
      " hess_inv: array([[ 0.03716757, -0.00727626],\n",
      "       [-0.00727626,  0.0015648 ]])\n",
      "      jac: array([2.20268248e-13, 7.67386155e-13])\n",
      "  message: 'Optimization terminated successfully.'\n",
      "     nfev: 6\n",
      "      nit: 4\n",
      "     njev: 6\n",
      "   status: 0\n",
      "  success: True\n",
      "        x: array([12.68999806, -0.71805908])\n"
     ]
    }
   ],
   "source": [
    "from scipy.optimize import minimize\n",
    "\n",
    "def cost(t):\n",
    "    return np.sum((X_data.dot(t)-y_data)**2)\n",
    "\n",
    "def grad(t):\n",
    "    return 2*X_data.T.dot(X_data.dot(t)-y_data)\n",
    "\n",
    "r = minimize(cost, [0,0], jac=grad, method=\"BFGS\")\n",
    "print r"
   ]
  },
  {
   "cell_type": "code",
   "execution_count": 44,
   "metadata": {},
   "outputs": [
    {
     "data": {
      "text/plain": [
       "[<matplotlib.lines.Line2D at 0x7f6b1741e8d0>]"
      ]
     },
     "execution_count": 44,
     "metadata": {},
     "output_type": "execute_result"
    },
    {
     "data": {
      "image/png": "[encoded data removed]",
      "text/plain": [
       "<Figure size 432x288 with 1 Axes>"
      ]
     },
     "metadata": {},
     "output_type": "display_data"
    }
   ],
   "source": [
    "t = r.x\n",
    "xg = np.vstack((np.ones(100), np.linspace(np.min(d.longitud), np.max(d.longitud),100))).T\n",
    "plt.scatter(d.longitud, d.densidad_escamas)\n",
    "plt.plot(xg[:,1], xg.dot(t), color=\"black\")"
   ]
  },
  {
   "cell_type": "markdown",
   "metadata": {},
   "source": [
    "con `sympy`"
   ]
  },
  {
   "cell_type": "code",
   "execution_count": 45,
   "metadata": {},
   "outputs": [],
   "source": [
    "import sympy\n",
    "sympy.init_printing(use_latex=True)"
   ]
  },
  {
   "cell_type": "code",
   "execution_count": 46,
   "metadata": {},
   "outputs": [
    {
     "data": {
      "image/png": "[encoded data removed]",
      "text/latex": [
       "$$\\left ( \\theta_{0}, \\quad \\theta_{1}\\right )$$"
      ],
      "text/plain": [
       "(θ₀, θ₁)"
      ]
     },
     "execution_count": 46,
     "metadata": {},
     "output_type": "execute_result"
    }
   ],
   "source": [
    "t0,t1 = sympy.symbols(\"theta_0 theta_1\")\n",
    "t0,t1"
   ]
  },
  {
   "cell_type": "markdown",
   "metadata": {},
   "source": [
    "fíjate en la expresión que obtenemos con un número reducido de datos y cómo la simplifica sympy"
   ]
  },
  {
   "cell_type": "code",
   "execution_count": 47,
   "metadata": {},
   "outputs": [
    {
     "data": {
      "image/png": "[encoded data removed]",
      "text/latex": [
       "$$\\frac{1}{150} \\left(1.0 \\theta_{0} + 2.15458565859046 \\theta_{1} - 12.9804763836153\\right)^{2} + \\frac{1}{150} \\left(1.0 \\theta_{0} + 3.81719503167102 \\theta_{1} - 8.81002719289253\\right)^{2} + \\frac{1}{150} \\left(1.0 \\theta_{0} + 4.34836838243169 \\theta_{1} - 7.15116821905906\\right)^{2} + \\frac{1}{150} \\left(1.0 \\theta_{0} + 4.35429913133065 \\theta_{1} - 8.07371797611023\\right)^{2} + \\frac{1}{150} \\left(1.0 \\theta_{0} + 4.76951819300369 \\theta_{1} - 7.15939183048497\\right)^{2} + \\frac{1}{150} \\left(1.0 \\theta_{0} + 5.274326634526 \\theta_{1} - 7.50229832556004\\right)^{2} + \\frac{1}{150} \\left(1.0 \\theta_{0} + 5.55302221760704 \\theta_{1} - 8.81891411220548\\right)^{2} + \\frac{1}{150} \\left(1.0 \\theta_{0} + 5.89817338602112 \\theta_{1} - 7.81259333097574\\right)^{2} + \\frac{1}{150} \\left(1.0 \\theta_{0} + 6.22322051865975 \\theta_{1} - 9.50777125739254\\right)^{2} + \\frac{1}{150} \\left(1.0 \\theta_{0} + 6.38924924607249 \\theta_{1} - 9.54390404392068\\right)^{2}$$"
      ],
      "text/plain": [
       "                                                 2                            \n",
       "(1.0⋅θ₀ + 2.15458565859046⋅θ₁ - 12.9804763836153)    (1.0⋅θ₀ + 3.8171950316710\n",
       "────────────────────────────────────────────────── + ─────────────────────────\n",
       "                       150                                                  15\n",
       "\n",
       "                        2                                                    2\n",
       "2⋅θ₁ - 8.81002719289253)    (1.0⋅θ₀ + 4.34836838243169⋅θ₁ - 7.15116821905906) \n",
       "───────────────────────── + ──────────────────────────────────────────────────\n",
       "0                                                  150                        \n",
       "\n",
       "                                                    2                         \n",
       "   (1.0⋅θ₀ + 4.35429913133065⋅θ₁ - 8.07371797611023)    (1.0⋅θ₀ + 4.7695181930\n",
       " + ────────────────────────────────────────────────── + ──────────────────────\n",
       "                          150                                                 \n",
       "\n",
       "                           2                                                  \n",
       "0369⋅θ₁ - 7.15939183048497)    (1.0⋅θ₀ + 5.274326634526⋅θ₁ - 7.50229832556004)\n",
       "──────────────────────────── + ───────────────────────────────────────────────\n",
       " 150                                                 150                      \n",
       "\n",
       "2                                                    2                        \n",
       "    (1.0⋅θ₀ + 5.55302221760704⋅θ₁ - 8.81891411220548)    (1.0⋅θ₀ + 5.898173386\n",
       "─ + ────────────────────────────────────────────────── + ─────────────────────\n",
       "                           150                                                \n",
       "\n",
       "                            2                                                 \n",
       "02112⋅θ₁ - 7.81259333097574)    (1.0⋅θ₀ + 6.22322051865975⋅θ₁ - 9.507771257392\n",
       "───────────────────────────── + ──────────────────────────────────────────────\n",
       "  150                                                  150                    \n",
       "\n",
       "   2                                                    2\n",
       "54)    (1.0⋅θ₀ + 6.38924924607249⋅θ₁ - 9.54390404392068) \n",
       "──── + ──────────────────────────────────────────────────\n",
       "                              150                        "
      ]
     },
     "execution_count": 47,
     "metadata": {},
     "output_type": "execute_result"
    }
   ],
   "source": [
    "expr = 0\n",
    "for i in range(10):\n",
    "    expr += (X_data[i,0]*t0+X_data[i,1]*t1-y_data[i])**2\n",
    "expr = expr/len(X_data)\n",
    "expr"
   ]
  },
  {
   "cell_type": "code",
   "execution_count": 48,
   "metadata": {},
   "outputs": [
    {
     "name": "stdout",
     "output_type": "stream",
     "text": [
      "[ 8.81002719 12.98047638  9.50777126  7.81259333  8.81891411  8.07371798\n",
      "  9.54390404  7.15116822  7.15939183  7.50229833]\n"
     ]
    },
    {
     "data": {
      "text/plain": [
       "array([[1.        , 3.81719503],\n",
       "       [1.        , 2.15458566],\n",
       "       [1.        , 6.22322052],\n",
       "       [1.        , 5.89817339],\n",
       "       [1.        , 5.55302222],\n",
       "       [1.        , 4.35429913],\n",
       "       [1.        , 6.38924925],\n",
       "       [1.        , 4.34836838],\n",
       "       [1.        , 4.76951819],\n",
       "       [1.        , 5.27432663]])"
      ]
     },
     "execution_count": 48,
     "metadata": {},
     "output_type": "execute_result"
    }
   ],
   "source": [
    "print y_data[:10]\n",
    "X_data[:10]"
   ]
  },
  {
   "cell_type": "code",
   "execution_count": 49,
   "metadata": {},
   "outputs": [
    {
     "data": {
      "image/png": "[encoded data removed]",
      "text/latex": [
       "$$0.0666666666666667 \\theta_{0}^{2} + 0.650426111998852 \\theta_{0} \\theta_{1} - 1.16480350229622 \\theta_{0} + 1.6854917041242 \\theta_{1}^{2} - 5.55685138209798 \\theta_{1} + 5.26845684029594$$"
      ],
      "text/plain": [
       "                     2                                                        \n",
       "0.0666666666666667⋅θ₀  + 0.650426111998852⋅θ₀⋅θ₁ - 1.16480350229622⋅θ₀ + 1.685\n",
       "\n",
       "             2                                         \n",
       "4917041242⋅θ₁  - 5.55685138209798⋅θ₁ + 5.26845684029594"
      ]
     },
     "execution_count": 49,
     "metadata": {},
     "output_type": "execute_result"
    }
   ],
   "source": [
    "expr = expr.simplify()\n",
    "expr"
   ]
  },
  {
   "cell_type": "markdown",
   "metadata": {},
   "source": [
    "obtenemos la expresion del coste para todos los datos y las derivadas parciales para el gradiente"
   ]
  },
  {
   "cell_type": "code",
   "execution_count": 51,
   "metadata": {},
   "outputs": [
    {
     "data": {
      "image/png": "[encoded data removed]",
      "text/latex": [
       "$$150.0 \\theta_{0}^{2} + 1394.98552064697 \\theta_{0} \\theta_{1} - 2805.31740244006 \\theta_{0} + 3562.83680003365 \\theta_{1}^{2} - 12585.7089422292 \\theta_{1} + 13692.8098616337$$"
      ],
      "text/plain": [
       "        2                                                                     \n",
       "150.0⋅θ₀  + 1394.98552064697⋅θ₀⋅θ₁ - 2805.31740244006⋅θ₀ + 3562.83680003365⋅θ₁\n",
       "\n",
       "2                                         \n",
       "  - 12585.7089422292⋅θ₁ + 13692.8098616337"
      ]
     },
     "execution_count": 51,
     "metadata": {},
     "output_type": "execute_result"
    }
   ],
   "source": [
    "expr_cost = 0\n",
    "for i in range(len(X_data)):\n",
    "    expr_cost += (X_data[i,0]*t0+X_data[i,1]*t1-y_data[i])**2\n",
    "expr_cost = expr_cost.simplify()\n",
    "expr_cost"
   ]
  },
  {
   "cell_type": "code",
   "execution_count": 52,
   "metadata": {},
   "outputs": [
    {
     "data": {
      "image/png": "[encoded data removed]",
      "text/latex": [
       "$$\\left ( 300.0 \\theta_{0} + 1394.98552064697 \\theta_{1} - 2805.31740244006, \\quad 1394.98552064697 \\theta_{0} + 7125.67360006729 \\theta_{1} - 12585.7089422292\\right )$$"
      ],
      "text/plain": [
       "(300.0⋅θ₀ + 1394.98552064697⋅θ₁ - 2805.31740244006, 1394.98552064697⋅θ₀ + 7125\n",
       ".67360006729⋅θ₁ - 12585.7089422292)"
      ]
     },
     "execution_count": 52,
     "metadata": {},
     "output_type": "execute_result"
    }
   ],
   "source": [
    "expr_dt0 = expr_cost.diff(t0)\n",
    "expr_dt1 = expr_cost.diff(t1)\n",
    "expr_dt0, expr_dt1"
   ]
  },
  {
   "cell_type": "markdown",
   "metadata": {},
   "source": [
    "y la función de coste y el jacobiano evaluable en Python"
   ]
  },
  {
   "cell_type": "code",
   "execution_count": 53,
   "metadata": {},
   "outputs": [],
   "source": [
    "s_cost = sympy.lambdify([[t0,t1]], expr_cost, \"numpy\")\n",
    "\n",
    "d0 = sympy.lambdify([[t0,t1]], expr_dt0, \"numpy\")\n",
    "d1 = sympy.lambdify([[t0,t1]], expr_dt1, \"numpy\")\n",
    "s_grad = lambda x: np.array([d0(x), d1(x)])"
   ]
  },
  {
   "cell_type": "markdown",
   "metadata": {},
   "source": [
    "y ahora los usamos en el minimizador"
   ]
  },
  {
   "cell_type": "code",
   "execution_count": 54,
   "metadata": {},
   "outputs": [
    {
     "name": "stdout",
     "output_type": "stream",
     "text": [
      "      fun: 411.7149385621451\n",
      " hess_inv: array([[ 0.03716757, -0.00727626],\n",
      "       [-0.00727626,  0.0015648 ]])\n",
      "      jac: array([-1.13686838e-13,  0.00000000e+00])\n",
      "  message: 'Optimization terminated successfully.'\n",
      "     nfev: 6\n",
      "      nit: 4\n",
      "     njev: 6\n",
      "   status: 0\n",
      "  success: True\n",
      "        x: array([12.68999806, -0.71805908])\n"
     ]
    }
   ],
   "source": [
    "r = minimize(s_cost, [0,0], jac=s_grad, method=\"BFGS\")\n",
    "print r"
   ]
  },
  {
   "cell_type": "markdown",
   "metadata": {},
   "source": [
    "fíjate como las funciones son las mismas"
   ]
  },
  {
   "cell_type": "code",
   "execution_count": 55,
   "metadata": {},
   "outputs": [
    {
     "name": "stdout",
     "output_type": "stream",
     "text": [
      "theta: [20393.10057291 20913.94526885]\n",
      "cost analytic: 2215383215601.342\n",
      "cost symbolic: 2215383215601.343\n",
      "gradient analytic: [3.52897757e+07 1.77461442e+08]\n",
      "gradient symbolic: [3.52897757e+07 1.77461442e+08]\n"
     ]
    }
   ],
   "source": [
    "t = np.array([np.random.random()*5000+20000, np.random.random()*1000+20000])\n",
    "print \"theta:\",t\n",
    "print \"cost analytic:\", cost(t)\n",
    "print \"cost symbolic:\", s_cost(t)\n",
    "\n",
    "print \"gradient analytic:\", grad(t)\n",
    "print \"gradient symbolic:\", s_grad(t)"
   ]
  },
  {
   "cell_type": "markdown",
   "metadata": {},
   "source": [
    "## TensorFlow: cálculo simbólico para ML\n",
    "\n",
    "fíjate cómo en TF se define un grafo (simbólico) y luego se le inyectan valores para evaluarlo\n"
   ]
  },
  {
   "cell_type": "code",
   "execution_count": 56,
   "metadata": {},
   "outputs": [
    {
     "data": {
      "text/plain": [
       "<tf.Tensor 'add:0' shape=(2, 1) dtype=float32>"
      ]
     },
     "execution_count": 56,
     "metadata": {},
     "output_type": "execute_result"
    }
   ],
   "source": [
    "x = tf.Variable(initial_value=tf.random_uniform([2,1]), name=\"x\", dtype=tf.float32)\n",
    "y = tf.Variable(initial_value=tf.random_uniform([2,1]), name=\"y\", dtype=tf.float32)\n",
    "expr = x**2+y**2\n",
    "expr"
   ]
  },
  {
   "cell_type": "code",
   "execution_count": 57,
   "metadata": {},
   "outputs": [
    {
     "name": "stdout",
     "output_type": "stream",
     "text": [
      "[[0.5137265 ]\n",
      " [0.44564188]]\n",
      "[[0.8308058]\n",
      " [0.613538 ]]\n",
      "[[0.9541531 ]\n",
      " [0.57502556]]\n"
     ]
    }
   ],
   "source": [
    "with tf.Session() as sess:\n",
    "    tf.global_variables_initializer().run()\n",
    "    print sess.run(x)\n",
    "    print sess.run(y)\n",
    "    print sess.run(expr)"
   ]
  },
  {
   "cell_type": "code",
   "execution_count": 58,
   "metadata": {},
   "outputs": [
    {
     "name": "stdout",
     "output_type": "stream",
     "text": [
      "[[13.]\n",
      " [20.]]\n"
     ]
    }
   ],
   "source": [
    "with tf.Session() as sess:\n",
    "    tf.global_variables_initializer().run()\n",
    "    print sess.run(expr, feed_dict={x:[[2],[2]], y:[[3],[4]]})"
   ]
  },
  {
   "cell_type": "markdown",
   "metadata": {},
   "source": [
    "\n",
    "Las expresiones de ML tienen **muchos parámetros** y en ellas participan **muchos datos**, todo ello mayormente a través de **operaciones con matrices**.\n",
    "\n",
    "- Los paquetes genéricos de cálculo simbólico (como `sympy`) se vuelven impracticables para los problemas de ML.\n",
    "- TF está diseñado específicamente como **paquete de cómputo simbólico para problemas de ML**.\n",
    "    - tratamiento especial de matrices simbólicas\n",
    "    - distinción entre símbolos para los datos (_placeholders_) y para los parámetros del modelo (_variables_)\n",
    "- Además permite paralelismo, visualizaciones, etc.\n",
    "\n",
    "En TensorFlow:\n",
    "\n",
    "- Hay una **expresión simbólica** que define nuestro problema de ML (el coste o **_loss_**)\n",
    "- Una **sesión tensorflow** provee un contexto para evaluar expresiones y realizar algoritmos.\n",
    "\n",
    "Por ejemplo, para nuestro modelo de regresión lineal\n",
    "\n",
    "- $X \\in \\mathbb{R}^{m\\times 2} = \\{\\mathbf{x}^{(i)} \\in \\mathbb{R}^2\\}$, datos (**placeholder**)\n",
    "- $y \\in \\mathbb{R}^m = \\{y^{(i)} \\in \\mathbb{R}\\}$, etiquetas (**placeholder**)\n",
    "- $\\theta \\in \\mathbb{R}^2$, parámetros (**variable**)\n",
    "\n",
    "\n",
    "- $\\hat{y}^{(i)} = \\overline\\theta \\cdot \\mathbf{x}^{(i)}$: predicción del modelo ante la entrada $\\mathbf{x}^{(i)}$.\n",
    "\n",
    "$$J(\\overline\\theta;X,y) = \\frac{1}{m}\\sum_{i=0}^{m-1} (\\overline\\theta \\cdot \\mathbf{x}^{(i)} - y^{(i)})^2$$\n",
    "\n",
    "\n",
    "$$\\nabla J (\\overline\\theta; X,y) = \\begin{bmatrix}\n",
    "\\frac{\\partial J}{\\partial \\theta_0}\\\\\n",
    "\\frac{\\partial J}{\\partial \\theta_1}\n",
    "\\end{bmatrix} = \\frac{1}{m}2X^{T}\\cdot(X\\cdot\\overline\\theta-Y)$$\n",
    "\n",
    "recuerda que\n",
    "- $\\overline{\\theta} = [\\theta_0, \\theta_1]$\n",
    "- $\\mathbf{x}^{(i)} = [1, x^{(i)}]$\n",
    "\n",
    "$J$ define nuestro problema de ML (es la función de **_loss_**), y $\\nabla J$ es su gradiente que será necesario para encontrar los parámetros $\\theta$ que minimizan $J$.\n",
    "\n",
    "pero con TF no tenemos que calcular $\\nabla J$ a mano!!!!\n",
    "\n"
   ]
  },
  {
   "cell_type": "code",
   "execution_count": 59,
   "metadata": {},
   "outputs": [],
   "source": [
    "tf.reset_default_graph()\n",
    "t = tf.Variable(initial_value=tf.random_uniform([2,1]), name=\"t\", dtype=tf.float32)\\\n",
    "   *tf.constant([[40],[20]], dtype=tf.float32)-tf.constant([[5],[10]], dtype=tf.float32)\n",
    "X = tf.placeholder(name=\"X\", dtype=tf.float32, shape = (None, 2))\n",
    "y = tf.placeholder(name=\"y\", dtype=tf.float32, shape = (None, 1))\n",
    "y_hat = tf.matmul(X,t)\n",
    "loss = tf.reduce_mean(tf.pow(y_hat-y,tf.constant(2, dtype=tf.float32)))"
   ]
  },
  {
   "cell_type": "code",
   "execution_count": 60,
   "metadata": {},
   "outputs": [],
   "source": [
    "with tf.Session() as sess:\n",
    "    writer = tf.summary.FileWriter(\"tmp\", sess.graph)\n"
   ]
  },
  {
   "cell_type": "markdown",
   "metadata": {},
   "source": [
    "ejecuta\n",
    "\n",
    "     tensorboard --logdir tmp\n",
    "    \n",
    "desde la línea de comando y abre [localhost:6006](http://localhost:6006) para inspeccionar el **grafo computacional** que representa la expresión anterior"
   ]
  },
  {
   "cell_type": "code",
   "execution_count": 61,
   "metadata": {},
   "outputs": [
    {
     "data": {
      "text/plain": [
       "<matplotlib.collections.PathCollection at 0x7f6b1887cfd0>"
      ]
     },
     "execution_count": 61,
     "metadata": {},
     "output_type": "execute_result"
    },
    {
     "data": {
      "image/png": "[encoded data removed]",
      "text/plain": [
       "<Figure size 432x288 with 1 Axes>"
      ]
     },
     "metadata": {},
     "output_type": "display_data"
    }
   ],
   "source": [
    "d = pd.read_csv(\"data/trilotropicos.csv\")\n",
    "X_data = np.r_[[[1]*len(d), d.longitud]].T\n",
    "y_data = d.densidad_escamas.values\n",
    "plt.scatter(d.longitud, d.densidad_escamas)"
   ]
  },
  {
   "cell_type": "markdown",
   "metadata": {},
   "source": [
    "**Evaluamos el costo** (_loss_, $J$) en algún $\\theta$ aleatorio, con el grafo computacional de TF, **siempre dentro de una sessión**"
   ]
  },
  {
   "cell_type": "code",
   "execution_count": 62,
   "metadata": {},
   "outputs": [
    {
     "name": "stdout",
     "output_type": "stream",
     "text": [
      "t= [29.511581   4.7709866]\n",
      "J= 1860.0579\n"
     ]
    }
   ],
   "source": [
    "init = tf.global_variables_initializer()\n",
    "with tf.Session() as sess:\n",
    "    sess.run(init)\n",
    "    t_sample = sess.run(t)\n",
    "    print \"t=\", t_sample[:,0]\n",
    "    print \"J=\", sess.run(loss, feed_dict={X: X_data, y: y_data.reshape(-1,1)})"
   ]
  },
  {
   "cell_type": "markdown",
   "metadata": {},
   "source": [
    "evaluación directa"
   ]
  },
  {
   "cell_type": "code",
   "execution_count": 63,
   "metadata": {},
   "outputs": [
    {
     "name": "stdout",
     "output_type": "stream",
     "text": [
      "J= 1860.0579729409167\n"
     ]
    }
   ],
   "source": [
    "def J(t,X,y):\n",
    "    return np.mean((X.dot(t)-y)**2)\n",
    "\n",
    "print \"J=\", J(t_sample[:,0],X_data,y_data)"
   ]
  },
  {
   "cell_type": "markdown",
   "metadata": {},
   "source": [
    "### gradientes\n",
    "\n",
    "fíjate ahora cómo usamos TF para que nos calcule **las expresiones** de los gradientes"
   ]
  },
  {
   "cell_type": "code",
   "execution_count": 64,
   "metadata": {},
   "outputs": [],
   "source": [
    "grad_loss = tf.gradients(loss, t)"
   ]
  },
  {
   "cell_type": "code",
   "execution_count": 65,
   "metadata": {},
   "outputs": [],
   "source": [
    "with tf.Session() as sess:\n",
    "    writer = tf.summary.FileWriter(\"tmp\", sess.graph)"
   ]
  },
  {
   "cell_type": "markdown",
   "metadata": {},
   "source": [
    "observa de nuevo el grafo computacional con **tensorboard**.\n",
    "\n",
    "**Evaluamos el gradiente** en algún $\\theta$ aleatorio"
   ]
  },
  {
   "cell_type": "code",
   "execution_count": 66,
   "metadata": {},
   "outputs": [
    {
     "name": "stdout",
     "output_type": "stream",
     "text": [
      "t= [28.001896  8.130573]\n",
      "grad J= [112.91523 562.7489 ]\n"
     ]
    }
   ],
   "source": [
    "with tf.Session() as sess:\n",
    "    sess.run(init)\n",
    "    t_sample = sess.run(t)\n",
    "    print \"t=\", t_sample[:,0]\n",
    "    print \"grad J=\", sess.run(grad_loss, feed_dict={X: X_data, y: y_data.reshape(-1,1)})[0][:,0]"
   ]
  },
  {
   "cell_type": "markdown",
   "metadata": {},
   "source": [
    "observamos que coincide con la expresión del gradiente derivada manualmente"
   ]
  },
  {
   "cell_type": "code",
   "execution_count": 67,
   "metadata": {},
   "outputs": [
    {
     "data": {
      "text/plain": [
       "array([112.91522239, 562.74894479])"
      ]
     },
     "execution_count": 67,
     "metadata": {},
     "output_type": "execute_result"
    }
   ],
   "source": [
    "def n_grad(t,X,y):\n",
    "    return 2*X.T.dot(X.dot(t)-y)/len(X)\n",
    "\n",
    "n_grad(t_sample[:,0], X_data, y_data)"
   ]
  },
  {
   "cell_type": "markdown",
   "metadata": {},
   "source": [
    "## Hacemos nuestra propia implementación de una optimización\n",
    "\n",
    "### Un gradiente descendiente simple\n",
    "\n",
    "Fíjate cómo usamos una regla de actualización de parámetros simple:\n",
    "\n",
    "$$\\theta = \\theta - 10^{-3} \\nabla J$$"
   ]
  },
  {
   "cell_type": "code",
   "execution_count": 68,
   "metadata": {},
   "outputs": [
    {
     "name": "stdout",
     "output_type": "stream",
     "text": [
      "init t=  [-1.0334253  6.9908257]\n",
      ". . . . . . . . . . . . . . . . . . . . . . . . . . . . . . . . . . . . . . . . . . . . . . . . . . . . . . . . . . . . . . . . . . . . . . . . . . . . . . . . . . . . . . . . . . . . . . . . . . . . \n",
      "final t= [12.607934  -0.7019349]\n"
     ]
    }
   ],
   "source": [
    "t_hist, cost_hist = [], []\n",
    "with tf.Session() as sess:\n",
    "    sess.run(init)\n",
    "    t_current = sess.run(t)\n",
    "    \n",
    "    print \"init t= \", t_current[:,0]\n",
    "    t_hist.append(t_current)\n",
    "    \n",
    "    for i in xrange(1,3001):\n",
    "        # parameter update\n",
    "        grad = sess.run(grad_loss, feed_dict={X: X_data, y: y_data.reshape(-1,1), t: t_current})        \n",
    "        t_current = t_current - grad[0]*.01\n",
    "        \n",
    "        # history\n",
    "        if i%30==0:\n",
    "            print \".\",\n",
    "            cost = sess.run(loss, feed_dict={X: X_data, y: y_data.reshape(-1,1), t: t_current})        \n",
    "            t_hist.append(t_current)\n",
    "            cost_hist.append(cost)\n",
    "        \n",
    "        \n",
    "print \"\\nfinal t=\", t_current[:,0]"
   ]
  },
  {
   "cell_type": "markdown",
   "metadata": {},
   "source": [
    "compara los parámetros obtenidos con los  óptimos"
   ]
  },
  {
   "cell_type": "code",
   "execution_count": 69,
   "metadata": {},
   "outputs": [
    {
     "name": "stdout",
     "output_type": "stream",
     "text": [
      "parámetros obtenidos [12.607934  -0.7019349]\n",
      "parámetros óptimos   [12.689998055222224, -0.7180590760985389]\n"
     ]
    }
   ],
   "source": [
    "from sklearn.linear_model import LinearRegression\n",
    "print \"parámetros obtenidos\", t_current[:,0]\n",
    "lr = LinearRegression()\n",
    "lr.fit(X_data[:,1:],y_data)\n",
    "print \"parámetros óptimos  \", [lr.intercept_, lr.coef_[0]]"
   ]
  },
  {
   "cell_type": "markdown",
   "metadata": {},
   "source": [
    "observa cómo obtenemos las predicciones alimentando los valores de $\\theta$  obtenidos a una nueva sesión de tenrsorflow"
   ]
  },
  {
   "cell_type": "code",
   "execution_count": 70,
   "metadata": {},
   "outputs": [],
   "source": [
    "with tf.Session() as sess:\n",
    "    preds = sess.run(y_hat, feed_dict={t: t_current, X: X_data})[:,0]"
   ]
  },
  {
   "cell_type": "code",
   "execution_count": 71,
   "metadata": {},
   "outputs": [
    {
     "name": "stdout",
     "output_type": "stream",
     "text": [
      "parámetros obtenidos [12.607934  -0.7019349]\n",
      "predicciones      [ 9.928512 11.095555  8.239639  8.4678    8.710073  9.551499  8.123096\n",
      "  9.555662  9.260042  8.9057  ]\n",
      "valores esperados [ 8.81002719 12.98047638  9.50777126  7.81259333  8.81891411  8.07371798\n",
      "  9.54390404  7.15116822  7.15939183  7.50229833]\n",
      "mean abs error    1.3789369125555273\n",
      "mean rel error    0.15015552215367772\n"
     ]
    }
   ],
   "source": [
    "nt = t_current[:,0]\n",
    "print \"parámetros obtenidos\", nt\n",
    "print \"predicciones     \", preds[:10]\n",
    "print \"valores esperados\", y_data[:10]\n",
    "print \"mean abs error   \", np.mean(np.abs(y_data-preds))\n",
    "print \"mean rel error   \", np.mean(np.abs(y_data-preds)/y_data)"
   ]
  },
  {
   "cell_type": "code",
   "execution_count": 72,
   "metadata": {},
   "outputs": [
    {
     "data": {
      "text/plain": [
       "[<matplotlib.lines.Line2D at 0x7f6b170fd150>]"
      ]
     },
     "execution_count": 72,
     "metadata": {},
     "output_type": "execute_result"
    },
    {
     "data": {
      "image/png": "[encoded data removed]",
      "text/plain": [
       "<Figure size 432x288 with 1 Axes>"
      ]
     },
     "metadata": {},
     "output_type": "display_data"
    }
   ],
   "source": [
    "plt.scatter(d.longitud, d.densidad_escamas)\n",
    "k = np.linspace(np.min(d.longitud), np.max(d.longitud),100)\n",
    "plt.plot(k, k*nt[1]+nt[0], color=\"black\")"
   ]
  },
  {
   "cell_type": "markdown",
   "metadata": {},
   "source": [
    "pintamos el proceso que hemos hecho"
   ]
  },
  {
   "cell_type": "code",
   "execution_count": 73,
   "metadata": {},
   "outputs": [],
   "source": [
    "import itertools\n",
    "def plot_cost(cost, t0_range, t1_range, vx=None,vy=None):\n",
    "    k0,k1 = 40,40\n",
    "\n",
    "    t0 = np.linspace(t0_range[0], t0_range[1], k0)\n",
    "    t1 = np.linspace(t1_range[0], t1_range[1], k1)\n",
    "\n",
    "    p = np.zeros((k0,k1))\n",
    "\n",
    "    for i,j in itertools.product(range(k0), range(k1)):\n",
    "        p[i,j] = np.log(cost(np.r_[t0[i],t1[j]]))\n",
    "\n",
    "    plt.contourf(t0, t1, p.T, cmap=plt.cm.hot, levels=np.linspace(np.min(p), np.max(p), 20))\n",
    "    plt.ylabel(r\"$\\theta_1$\")\n",
    "    plt.xlabel(r\"$\\theta_0$\")\n",
    "    plt.title(\"loss\")\n",
    "    plt.colorbar()\n",
    "\n",
    "    if vx is not None:\n",
    "        plt.axvline(vx, color=\"white\")\n",
    "    if vy is not None:\n",
    "        plt.axhline(vy, color=\"white\")"
   ]
  },
  {
   "cell_type": "code",
   "execution_count": 74,
   "metadata": {},
   "outputs": [
    {
     "data": {
      "image/png": "[encoded data removed]",
      "text/plain": [
       "<Figure size 1080x432 with 3 Axes>"
      ]
     },
     "metadata": {},
     "output_type": "display_data"
    }
   ],
   "source": [
    "def plot_optimizer(t_hist, cost_hist):\n",
    "    plt.figure(figsize=(15,6))\n",
    "    plt.subplot(121)\n",
    "\n",
    "    loss = lambda t: J(t, X_data, y_data)\n",
    "    g=np.r_[t_hist][:,:,0]\n",
    "\n",
    "    plot_cost(loss, (-10,30), (-10,10), vx=lr.intercept_, vy=lr.coef_[0])\n",
    "    plt.plot(g[:,0], g[:,1], color=\"white\")\n",
    "    plt.scatter(g[:,0], g[:,1], color=\"white\", s=20)\n",
    "    plt.scatter(g[-1,0], g[-1,1], marker=\"x\", color=\"white\", s=200)\n",
    "\n",
    "    plt.subplot(122)\n",
    "    plt.plot(cost_hist, marker=\"o\")\n",
    "    plt.xlabel(\"step number\")\n",
    "    plt.ylabel(\"loss\")\n",
    "    plt.grid()\n",
    "plot_optimizer(t_hist, cost_hist)"
   ]
  },
  {
   "cell_type": "markdown",
   "metadata": {},
   "source": [
    "### Estrategias más elaboradas\n",
    "\n",
    "TensorFlow nos ofrece varias estrategias de exploración y descenso del gradiente.\n",
    "\n",
    "### [`GradientDescentOptimizer`](https://www.tensorflow.org/api_docs/python/tf/train/GradientDescentOptimizer)"
   ]
  },
  {
   "cell_type": "code",
   "execution_count": 75,
   "metadata": {},
   "outputs": [
    {
     "name": "stdout",
     "output_type": "stream",
     "text": [
      "init t=  [32.095894   7.2610664]\n",
      "final t=  [12.69652   -0.7193527]\n"
     ]
    }
   ],
   "source": [
    "# definimos el grafo computacional\n",
    "tf.reset_default_graph()\n",
    "t = tf.Variable(initial_value=tf.random_uniform([2,1]), name=\"t\", dtype=tf.float32)\\\n",
    "   *tf.constant([[40],[20]], dtype=tf.float32)-tf.constant([[5],[10]], dtype=tf.float32)\n",
    "X = tf.placeholder(name=\"X\", dtype=tf.float32, shape = (None, 2))\n",
    "y = tf.placeholder(name=\"y\", dtype=tf.float32, shape = (None, 1))\n",
    "loss = tf.reduce_mean(tf.pow(tf.matmul(X,t)-y,tf.constant(2, dtype=tf.float32)))\n",
    "init = tf.global_variables_initializer()\n",
    "\n",
    "# realizamos la optimización\n",
    "optimizer_gd = tf.train.GradientDescentOptimizer(.00001).minimize(loss)\n",
    "t_hist, cost_hist = [], []\n",
    "with tf.Session() as sess:\n",
    "    sess.run(init)\n",
    "    t_current = sess.run(t)\n",
    "    print \"init t= \", sess.run(t)[:,0]\n",
    "    t_hist.append(t_current)\n",
    "    \n",
    "    for i in xrange(1,3000):\n",
    "        # parameter update\n",
    "        sess.run(optimizer_gd, feed_dict={X: X_data, y: y_data.reshape(-1,1)})\n",
    "        \n",
    "        # history\n",
    "        if i%30==0:\n",
    "            t_current, cost = sess.run([t, loss], feed_dict={X: X_data, y: y_data.reshape(-1,1)})\n",
    "            t_hist.append(t_current)\n",
    "            cost_hist.append(cost)\n",
    "        \n",
    "        \n",
    "    print \"final t= \", sess.run(t)[:,0]\n"
   ]
  },
  {
   "cell_type": "code",
   "execution_count": 76,
   "metadata": {},
   "outputs": [
    {
     "data": {
      "image/png": "[encoded data removed]",
      "text/plain": [
       "<Figure size 1080x432 with 3 Axes>"
      ]
     },
     "metadata": {},
     "output_type": "display_data"
    }
   ],
   "source": [
    "plot_optimizer(t_hist, cost_hist)\n"
   ]
  },
  {
   "cell_type": "markdown",
   "metadata": {},
   "source": [
    "### [`AdamOptimizer`](https://www.tensorflow.org/api_docs/python/tf/train/AdamOptimizer) y uso de Batches\n",
    "\n",
    "Observa cómo:\n",
    "\n",
    "- usamos otro optimizador\n",
    "- usamos **batches** ya que en general, es más efectivo alimentar al optimizado con _batches_ de datos y no con todo el dataset:\n",
    "\n",
    "    - **epoch**: un paso por todo el dataset\n",
    "    - **step**: el procesamiento de un batch\n",
    "    - **batch_size**: el número de elementos que conforman un batch\n",
    "\n",
    "- al final de cada **epoch** \n",
    "    - muestreamos los parámetros y medimos el coste **con todo el dataset**.\n",
    "    - verificamos que la función `loss` sigue decayendo significativamente (si no, paramos)"
   ]
  },
  {
   "cell_type": "code",
   "execution_count": 77,
   "metadata": {},
   "outputs": [
    {
     "name": "stdout",
     "output_type": "stream",
     "text": [
      "init t =   [19.650494   2.7107162]\n",
      ". . . . . . . . small loss, stopping iteration\n",
      "final t =  [12.578184   -0.68458366]\n"
     ]
    }
   ],
   "source": [
    "tf.reset_default_graph()\n",
    "t = tf.Variable(initial_value=tf.random_uniform([2,1]), name=\"t\", dtype=tf.float32)\\\n",
    "   *tf.constant([[40],[20]], dtype=tf.float32)-tf.constant([[5],[10]], dtype=tf.float32)\n",
    "X = tf.placeholder(name=\"X\", dtype=tf.float32, shape = (None, 2))\n",
    "y = tf.placeholder(name=\"y\", dtype=tf.float32, shape = (None, 1))\n",
    "loss = tf.reduce_mean(tf.pow(tf.matmul(X,t)-y,tf.constant(2, dtype=tf.float32)))\n",
    "\n",
    "optimizer_adam = tf.train.AdamOptimizer().minimize(loss)\n",
    "\n",
    "init = tf.global_variables_initializer()\n",
    "\n",
    "n_epochs = 60\n",
    "batch_size = 2\n",
    "n = X_data.shape[0]\n",
    "\n",
    "t_hist, loss_hist = [], []\n",
    "with tf.Session() as sess:\n",
    "    sess.run(init)\n",
    "    t_current = sess.run(t)\n",
    "    print \"init t =  \", sess.run(t)[:,0]\n",
    "    t_hist.append(t_current)\n",
    "    \n",
    "    for epoch in xrange(n_epochs):\n",
    "        print \".\",\n",
    "        for i in range(n/batch_size+int((n%batch_size)!=0)):\n",
    "            batch_init, batch_end = i*batch_size, np.min([(i+1)*batch_size, n])\n",
    "            X_batch, y_batch = X_data[batch_init:batch_end], y_data[batch_init:batch_end]\n",
    "            k = sess.run(optimizer_adam, feed_dict={X: X_batch, y: y_batch.reshape(-1,1)})\n",
    "\n",
    "        # history\n",
    "        t_current, nloss = sess.run([t, loss], feed_dict={X: X_data, y: y_data.reshape(-1,1)})\n",
    "        t_hist.append(t_current)\n",
    "        loss_hist.append(nloss)\n",
    "        if len(loss_hist)>2 and loss_hist[-2]-loss_hist[-1]<5e-3:\n",
    "            print \"small loss, stopping iteration\"\n",
    "            break\n",
    "        \n",
    "    print \"final t = \", sess.run(t)[:,0]"
   ]
  },
  {
   "cell_type": "code",
   "execution_count": 78,
   "metadata": {},
   "outputs": [
    {
     "data": {
      "image/png": "[encoded data removed]",
      "text/latex": [
       "$$\\left ( 0, \\quad 40\\right )$$"
      ],
      "text/plain": [
       "(0, 40)"
      ]
     },
     "execution_count": 78,
     "metadata": {},
     "output_type": "execute_result"
    },
    {
     "data": {
      "image/png": "[encoded data removed]",
      "text/plain": [
       "<Figure size 1080x432 with 3 Axes>"
      ]
     },
     "metadata": {},
     "output_type": "display_data"
    }
   ],
   "source": [
    "plot_optimizer(t_hist, loss_hist)\n",
    "plt.ylim(0,40)"
   ]
  },
  {
   "cell_type": "code",
   "execution_count": null,
   "metadata": {},
   "outputs": [],
   "source": []
  }
 ],
 "metadata": {
  "kernelspec": {
   "display_name": "Python 2",
   "language": "python",
   "name": "python2"
  },
  "language_info": {
   "codemirror_mode": {
    "name": "ipython",
    "version": 2
   },
   "file_extension": ".py",
   "mimetype": "text/x-python",
   "name": "python",
   "nbconvert_exporter": "python",
   "pygments_lexer": "ipython2",
   "version": "2.7.14"
  }
 },
 "nbformat": 4,
 "nbformat_minor": 2
}
