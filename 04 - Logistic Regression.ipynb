{
 "cells": [
  {
   "cell_type": "code",
   "execution_count": 8,
   "metadata": {},
   "outputs": [],
   "source": [
    "from sklearn.datasets import *\n",
    "import numpy as np\n",
    "from scipy.optimize import minimize\n",
    "import matplotlib.pyplot as plt\n",
    "%matplotlib inline\n",
    "\n",
    "def plot_2Ddata_with_boundary(predict,X,y):\n",
    "    n = 200\n",
    "    mins,maxs = np.min(d,axis=0), np.max(d,axis=0)\n",
    "    mins -= np.abs(mins)*.2\n",
    "    maxs += np.abs(maxs)*.2\n",
    "    d0 = np.linspace(mins[0], maxs[0],n)\n",
    "    d1 = np.linspace(mins[1], maxs[1],n)\n",
    "    gd0,gd1 = np.meshgrid(d0,d1)\n",
    "    D = np.hstack((gd0.reshape(-1,1), gd1.reshape(-1,1)))\n",
    "    p = (predict(D)*1.).reshape((n,n))\n",
    "    plt.contourf(gd0,gd1,p, levels=[-0.1,0.5], alpha=0.5, cmap=plt.cm.Greys)\n",
    "    plt.scatter(X[y==0][:,0], X[y==0][:,1], c=\"blue\")\n",
    "    plt.scatter(X[y==1][:,0], X[y==1][:,1], c=\"red\")"
   ]
  },
  {
   "cell_type": "markdown",
   "metadata": {},
   "source": [
    "Podríamos poner simplemente un umbral a una regresión lineal para convertirlo en un problema de clasificación, pero:\n",
    "\n",
    "- tendríamos una función discontinua, lo que complica derivadas, etc.\n",
    "- el problema de clasificación es fundamentalmente distinto y es fácil encontrar casos con comportamientos no deseados\n",
    "\n",
    "usamos por tanto la función sigmoide $g(x) = \\frac{1}{1+e^x}$, garantizando que $g(x) \\in [0,1]$ y ponemos un umbral en 0.5"
   ]
  },
  {
   "cell_type": "markdown",
   "metadata": {},
   "source": [
    "usaremos un dataset sintético de `sklearn`"
   ]
  },
  {
   "cell_type": "code",
   "execution_count": 9,
   "metadata": {},
   "outputs": [],
   "source": [
    "from sklearn.linear_model import LogisticRegression\n",
    "n=200\n",
    "(d,c) = make_moons(n_samples=n, noise=0.2)"
   ]
  },
  {
   "cell_type": "code",
   "execution_count": 10,
   "metadata": {},
   "outputs": [
    {
     "data": {
      "text/plain": [
       "<matplotlib.collections.PathCollection at 0x7facf0bb8dd0>"
      ]
     },
     "execution_count": 10,
     "metadata": {},
     "output_type": "execute_result"
    },
    {
     "data": {
      "image/png": "[encoded data removed]",
      "text/plain": [
       "<Figure size 432x288 with 1 Axes>"
      ]
     },
     "metadata": {},
     "output_type": "display_data"
    }
   ],
   "source": [
    "plt.scatter(d[c==0][:,0], d[c==0][:,1], c=\"blue\")\n",
    "plt.scatter(d[c==1][:,0], d[c==1][:,1], c=\"red\")"
   ]
  },
  {
   "cell_type": "markdown",
   "metadata": {},
   "source": [
    "### Aproximación basada en coste"
   ]
  },
  {
   "cell_type": "markdown",
   "metadata": {},
   "source": [
    "denotamos un punto cualquiera en $\\mathbb{R}^2$ por $\\mathbf{x}= [1, x_1^{(i)}, x_2^{(i)}]$ (observa que le hemos añadido un 1), y está asociado a una clase $y^{(i)} \\in \\{0,1\\}$.\n",
    "\n",
    "**ASUMIMOS** que las clases son linealmente separables por una hiperplano parametrizado por $\\theta = [\\theta_0, \\theta_1, \\theta_2]$ a través de la siguiente función:\n",
    "\n",
    "$$\\hat{y}^{(i)} = g(\\mathbf{x}^{(i)}\\theta)\\;\\;\\;\\; \\hat{y}^{(i)} \\in [0,1]$$\n",
    "\n",
    "con $g(z) = \\frac{1}{1+e^{-z}}$, la función sigmoide. Si $\\hat{y}^{(i)}<0.5$ consideramos que la estimación clasifica el dato $x^{(i)}$ en la clase 0, y si no en la clase 1. Observa que $g$ es una función escalar: $g: \\mathbb{R} \\rightarrow \\mathbb{R}$\n",
    "\n",
    "queremos encontrar los valores $\\theta_{min}$ que parametrizan un hiperplano  de modo que\n",
    "\n",
    "\n",
    "$$\\theta_{min} = \\underset{\\theta}{arg\\,min} \\,\\,\\,\\frac{1}{m}\\sum_{i=0}^{m-1} (y^{(i)}-g(\\theta\\mathbf{x}^{(i)}))^2$$ \n",
    "\n",
    "Usamos `sympy` para definir la expresión de coste, obtener las derivadas y las funciones evaluables python para usar el minimizador. Observa como, primero, añadimos una columna de unos a $X$"
   ]
  },
  {
   "cell_type": "code",
   "execution_count": 11,
   "metadata": {},
   "outputs": [],
   "source": [
    "X = np.hstack((np.ones((len(d),1)), d))\n",
    "y = c\n",
    "\n",
    "import sympy\n",
    "t0,t1, t2 = sympy.symbols(\"theta_0 theta_1 theta_2\")\n",
    "x0,x1, x2 = sympy.symbols(\"x_0 x_1 x_2\")\n",
    "expr = 0\n",
    "for i in range(len(X)):\n",
    "    expr += ( 1/(1+sympy.exp(-(X[i,0]*t0+X[i,1]*t1+X[i,2]*t2)))  - y[i])**2\n",
    "expr_cost = expr/len(X)\n",
    "expr_dt0 = expr.diff(t0)\n",
    "expr_dt1 = expr.diff(t1)\n",
    "expr_dt2 = expr.diff(t2)"
   ]
  },
  {
   "cell_type": "code",
   "execution_count": 12,
   "metadata": {},
   "outputs": [],
   "source": [
    "s_cost = sympy.lambdify([[t0,t1,t2]], expr_cost, \"numpy\")\n",
    "\n",
    "d0 = sympy.lambdify([[t0,t1,t2]], expr_dt0, \"numpy\")\n",
    "d1 = sympy.lambdify([[t0,t1,t2]], expr_dt1, \"numpy\")\n",
    "d2 = sympy.lambdify([[t0,t1,t2]], expr_dt2, \"numpy\")\n",
    "\n",
    "s_grad = lambda x: np.array([d0(x), d1(x), d2(x)])"
   ]
  },
  {
   "cell_type": "code",
   "execution_count": 13,
   "metadata": {},
   "outputs": [
    {
     "name": "stdout",
     "output_type": "stream",
     "text": [
      "      fun: 0.09108884637586098\n",
      " hess_inv: array([[ 0.10829876,  0.00738862, -0.25319814],\n",
      "       [ 0.00738862,  0.13616044, -0.30749238],\n",
      "       [-0.25319814, -0.30749238,  1.58425416]])\n",
      "      jac: array([ 6.91200159e-07, -7.38510276e-06,  8.44832725e-06])\n",
      "  message: 'Optimization terminated successfully.'\n",
      "     nfev: 267\n",
      "      nit: 69\n",
      "     njev: 267\n",
      "   status: 0\n",
      "  success: True\n",
      "        x: array([ 0.43803806,  1.09713358, -3.92160477])\n"
     ]
    }
   ],
   "source": [
    "sr = minimize(s_cost, np.zeros(X.shape[1]), jac=s_grad, method=\"BFGS\")\n",
    "print sr"
   ]
  },
  {
   "cell_type": "code",
   "execution_count": 14,
   "metadata": {},
   "outputs": [
    {
     "data": {
      "image/png": "[encoded data removed]",
      "text/plain": [
       "<Figure size 432x288 with 1 Axes>"
      ]
     },
     "metadata": {},
     "output_type": "display_data"
    }
   ],
   "source": [
    "def predict(X, theta):\n",
    "    X = np.hstack((np.ones((len(X),1)), X))\n",
    "    return (1/(1+np.exp(X.dot(theta)))<0.5)*1\n",
    "plot_2Ddata_with_boundary(lambda x: predict(x, sr.x), d, y)"
   ]
  },
  {
   "cell_type": "code",
   "execution_count": null,
   "metadata": {},
   "outputs": [],
   "source": []
  },
  {
   "cell_type": "markdown",
   "metadata": {},
   "source": [
    "### Aproximación probabilística\n",
    "\n",
    "**INTERPRETAMOS** la función $g(\\mathbf{x}\\theta)$ como la probabilidad de que el elemento $\\mathbf{x}$ pertenezca a la clase 1.\n",
    "\n",
    "Es decir:\n",
    "\n",
    "- $P(y=1|\\mathbf{x};\\theta) = g(\\mathbf{x}\\theta)$\n",
    "- $P(y=0|\\mathbf{x};\\theta) = 1-g(\\mathbf{x}\\theta)$\n",
    "\n",
    "o de modo más compacto:\n",
    "\n",
    "$$P(y|\\mathbf{x};\\theta) = (g(\\mathbf{x}\\theta))^y(1-g(\\mathbf{x}\\theta))^{1-y}$$\n",
    "\n",
    "así, la probabilidad de ver los datos que tengo:\n",
    "\n",
    "$$L(\\theta) = \\prod_{i=0}^{m-1}P(y_i|\\mathbf{x}_i;\\theta) = $$\n",
    "\n",
    "$$ = \\prod_{i=0}^{m-1}(g(\\mathbf{x}_i\\theta))^{y_i}(1-g(\\mathbf{x}_i\\theta))^{1-y_i} $$\n",
    "\n",
    "esto es el **estimador de máxima verosimilitud** (_maximum likelihood estimator_ o **MLE**), el cual queremos **MAXIMIZAR**\n",
    "\n",
    "y es más fácil maximizar el logaritmo:\n",
    "\n",
    "$$l(\\theta) = \\sum_{i=0}^{m-1}y_i log(g(\\mathbf{x}_i\\theta))+(1-y_i) log(1-g(\\mathbf{x}_i\\theta))$$\n",
    "\n",
    "\n",
    "cuyo gradiente en forma matricial viene dado por:\n",
    "\n",
    "$$\\nabla J= \\frac{1}{m}2X^{T}\\cdot(Y-g(X\\cdot\\theta))$$\n",
    "\n",
    "\n",
    "Fíjate cómo resolvemos este problema de optimización con `sklearn.optimize`. Como queremos **MAXIMIZAR**, tenemos que cambiarle el signo tanto al coste como al gradiente."
   ]
  },
  {
   "cell_type": "code",
   "execution_count": 15,
   "metadata": {},
   "outputs": [],
   "source": [
    "def g(X):\n",
    "    return 1/(1+np.exp(-X))\n",
    "def grad(t):\n",
    "    return -2*X.T.dot(y-g(X.dot(t)))/len(X)\n",
    "def cost(t):\n",
    "    return -np.sum(np.log(g(X.dot(t)))*y+np.log(1-g(X.dot(t)))*(1-y))"
   ]
  },
  {
   "cell_type": "code",
   "execution_count": 16,
   "metadata": {},
   "outputs": [
    {
     "name": "stdout",
     "output_type": "stream",
     "text": [
      "      fun: 57.966497668326895\n",
      " hess_inv: array([[ 9.81608141, -3.61525905, -9.35384603],\n",
      "       [-3.61525905,  7.31706175, -1.48829636],\n",
      "       [-9.35384603, -1.48829636, 42.40526632]])\n",
      "      jac: array([ 9.25678102e-07,  1.09636312e-06, -1.21371387e-07])\n",
      "  message: 'Optimization terminated successfully.'\n",
      "     nfev: 18\n",
      "      nit: 17\n",
      "     njev: 18\n",
      "   status: 0\n",
      "  success: True\n",
      "        x: array([ 0.4973242 ,  1.22534872, -4.44127754])\n",
      "predictions    [0 0 0 0 1 1 0 1 0 0 1 1 0 0 1 1 0 0 1 1 1 1 1 1 0 0 1 1 0 0 0 1 1 0 1 0 0\n",
      " 1 0 0 1 1 1 1 0 1 1 1 0 0 0 0 0 0 1 0 1 0 1 1 0 0 1 1 0 0 0 0 1 1 0 0 1 1\n",
      " 1 0 0 1 0 0 1 0 1 0 0 1 0 1 0 1 1 0 1 1 1 0 1 1 1 1 0 1 1 1 1 0 1 0 0 1 0\n",
      " 0 0 1 1 1 1 1 1 0 1 0 1 0 0 1 0 0 0 0 0 0 1 0 1 0 0 1 0 0 0 0 1 1 0 1 0 1\n",
      " 0 0 0 1 0 1 1 0 1 0 0 1 0 0 0 1 1 0 1 1 1 0 1 1 0 0 0 0 1 1 1 0 0 0 1 0 1\n",
      " 1 0 1 0 1 1 1 0 1 1 1 0 0 0 0]\n",
      "actual classes [0 0 0 0 1 1 0 1 0 0 1 1 0 1 0 1 0 1 1 0 1 0 1 1 0 0 1 1 0 0 0 1 1 0 1 0 0\n",
      " 1 0 0 1 1 1 1 0 0 1 1 0 0 0 1 0 0 1 1 1 0 1 1 0 0 1 1 0 0 0 1 0 1 0 0 1 1\n",
      " 1 0 0 1 1 0 1 0 1 0 0 1 0 1 0 1 1 0 1 1 1 0 1 1 1 1 1 1 0 1 1 1 1 0 1 1 0\n",
      " 0 0 1 0 1 1 1 1 0 1 0 1 0 0 1 0 0 1 0 0 0 1 1 0 0 0 1 0 0 0 0 1 1 0 1 0 1\n",
      " 0 0 0 1 0 0 0 0 1 0 0 1 0 0 0 1 1 0 1 1 1 0 1 1 0 0 0 0 1 1 1 0 0 0 1 0 0\n",
      " 1 1 1 0 1 1 1 0 1 1 1 0 1 0 0]\n"
     ]
    },
    {
     "data": {
      "image/png": "[encoded data removed]",
      "text/plain": [
       "<Figure size 432x288 with 1 Axes>"
      ]
     },
     "metadata": {},
     "output_type": "display_data"
    }
   ],
   "source": [
    "r = minimize(cost, np.zeros(X.shape[1]), jac=grad, method=\"BFGS\")\n",
    "print r\n",
    "print \"predictions   \", predict(d, r.x)\n",
    "print \"actual classes\", c\n",
    "\n",
    "plot_2Ddata_with_boundary(lambda x: predict(x, r.x), d, y)"
   ]
  },
  {
   "cell_type": "markdown",
   "metadata": {},
   "source": [
    "Aunque los parámetros obtenidos no son exactamente los mismos"
   ]
  },
  {
   "cell_type": "code",
   "execution_count": 17,
   "metadata": {},
   "outputs": [
    {
     "data": {
      "text/plain": [
       "(array([ 0.43803806,  1.09713358, -3.92160477]),\n",
       " array([ 0.4973242 ,  1.22534872, -4.44127754]))"
      ]
     },
     "execution_count": 17,
     "metadata": {},
     "output_type": "execute_result"
    }
   ],
   "source": [
    "sr.x, r.x"
   ]
  },
  {
   "cell_type": "code",
   "execution_count": null,
   "metadata": {
    "collapsed": true
   },
   "outputs": [],
   "source": []
  }
 ],
 "metadata": {
  "kernelspec": {
   "display_name": "Python 2",
   "language": "python",
   "name": "python2"
  },
  "language_info": {
   "codemirror_mode": {
    "name": "ipython",
    "version": 2
   },
   "file_extension": ".py",
   "mimetype": "text/x-python",
   "name": "python",
   "nbconvert_exporter": "python",
   "pygments_lexer": "ipython2",
   "version": "2.7.14"
  },
  "toc": {
   "toc_cell": false,
   "toc_number_sections": false,
   "toc_threshold": 6,
   "toc_window_display": false
  }
 },
 "nbformat": 4,
 "nbformat_minor": 1
}
