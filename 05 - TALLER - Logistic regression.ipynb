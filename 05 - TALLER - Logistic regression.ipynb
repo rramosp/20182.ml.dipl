{
 "cells": [
  {
   "cell_type": "code",
   "execution_count": 1,
   "metadata": {
    "collapsed": true
   },
   "outputs": [],
   "source": [
    "from sklearn.datasets import *\n",
    "import numpy as np\n",
    "from scipy.optimize import minimize\n",
    "import matplotlib.pyplot as plt\n",
    "%matplotlib inline\n",
    "\n",
    "def plot_2Ddata_with_boundary(predict,X,y):\n",
    "    n = 200\n",
    "    mins,maxs = np.min(d,axis=0), np.max(d,axis=0)\n",
    "    mins -= np.abs(mins)*.2\n",
    "    maxs += np.abs(maxs)*.2\n",
    "    d0 = np.linspace(mins[0], maxs[0],n)\n",
    "    d1 = np.linspace(mins[1], maxs[1],n)\n",
    "    gd0,gd1 = np.meshgrid(d0,d1)\n",
    "    D = np.hstack((gd0.reshape(-1,1), gd1.reshape(-1,1)))\n",
    "    p = (predict(D)*1.).reshape((n,n))\n",
    "    plt.contourf(gd0,gd1,p, levels=[-0.1,0.5], alpha=0.5, cmap=plt.cm.Greys)\n",
    "    plt.scatter(X[y==0][:,0], X[y==0][:,1], c=\"blue\")\n",
    "    plt.scatter(X[y==1][:,0], X[y==1][:,1], c=\"red\")\n"
   ]
  },
  {
   "cell_type": "markdown",
   "metadata": {},
   "source": [
    "# Ejercicio 1: API `sklearn`\n",
    "\n",
    "Organiza el código de las notas, en la aproximación basada en probabilidad, en una clase siguiendo el API de `sklearn`. Para esto:\n",
    "\n",
    "- La función `fit` calcula el $\\theta$ óptimo. Observa que a la función le llegan los datos originales en una matrix $\\mathbf{R}^{m \\times n}$, tendrás que añadirles una columna de 1's.\n",
    "- El $\\theta$ óptimo se guarda en la variable de instancia `self.theta`\n",
    "- La función `predict` tendrá que añadirle una columna de 1's a los datos que reciba y usar `self.theta` para devolver un vector de predicciones para cada $x^{(i)}$ (cada fila de $X$) de forma que la predicción sea $predict(x^{(i)})=1\\{g(\\theta\\cdot x^{(i)})>0.5\\}$. Es decir, ha de devolver un vector de 0's y 1's."
   ]
  },
  {
   "cell_type": "code",
   "execution_count": 4,
   "metadata": {},
   "outputs": [],
   "source": [
    "def LR(**args): # hack for inspect to work with classes\n",
    "    from scipy.optimize import minimize\n",
    "    import numpy as np\n",
    "    \n",
    "    class LR_class:\n",
    "        def fit(self, X, y):\n",
    "            X = ... ## TU CODIGO AQUI. ANADELE UNA COLUMNA DE 1's a X\n",
    "            def cost(t):\n",
    "                return  ... ## TU CODIGO AQUI\n",
    "\n",
    "            def grad(t):\n",
    "                return ... ## TU CODIGO AQUI\n",
    "            \n",
    "            r = minimize(... ## TU CODIGO AQUI\n",
    "            self.theta = r.x \n",
    "\n",
    "        def predict(self, X):\n",
    "            X = ... ## TU CODIGO AQUI. ANADELE UNA COLUMNA DE 1's a X\n",
    "            return ... ## TU CODIGO AQUI. DEVUELVE UN VECTOR DE PREDICCIONES\n",
    "\n",
    "        def g(self, X):\n",
    "            return 1/(1+np.exp(-X))\n",
    "    return LR_class(**args)\n",
    "\n",
    "import urllib, inspect\n",
    "src1 = urllib.quote_plus(inspect.getsource(LR))"
   ]
  },
  {
   "cell_type": "markdown",
   "metadata": {},
   "source": [
    "comprueba tu código"
   ]
  },
  {
   "cell_type": "code",
   "execution_count": 5,
   "metadata": {},
   "outputs": [
    {
     "name": "stdout",
     "output_type": "stream",
     "text": [
      "[[-0.84677042  0.5605383 ]\n",
      " [ 1.62432447 -0.06384203]\n",
      " [ 0.85253856 -0.72291008]\n",
      " [ 0.88301842  0.04832607]\n",
      " [ 0.25629067 -0.23068211]\n",
      " [-0.24069042  0.83777189]\n",
      " [-0.04613778  0.4836857 ]\n",
      " [ 1.06210397  0.68548191]\n",
      " [-0.82562512  0.31989745]\n",
      " [ 2.17972817  0.59439689]]\n",
      "predictions    [0 1 1 1 1 0 0 0 0 1]\n",
      "actual classes [0 1 1 0 1 0 1 0 0 1]\n"
     ]
    },
    {
     "data": {
      "image/png": "[encoded data removed]",
      "text/plain": [
       "<matplotlib.figure.Figure at 0xa7e2b8ac>"
      ]
     },
     "metadata": {},
     "output_type": "display_data"
    }
   ],
   "source": [
    "(d,c) = make_moons(n_samples=10, noise=0.2)\n",
    "print d\n",
    "lr = LR()\n",
    "lr.fit(d,c)\n",
    "print \"predictions   \", lr.predict(d)\n",
    "print \"actual classes\", c\n",
    "plot_2Ddata_with_boundary(lr.predict, d, c)"
   ]
  },
  {
   "cell_type": "code",
   "execution_count": 6,
   "metadata": {},
   "outputs": [
    {
     "data": {
      "image/png": "[encoded data removed]",
      "text/plain": [
       "<matplotlib.figure.Figure at 0xa7d180ac>"
      ]
     },
     "metadata": {},
     "output_type": "display_data"
    }
   ],
   "source": [
    "data = np.loadtxt(\"data/logregdata.csv\", delimiter=\",\", skiprows=1)\n",
    "d,c = data[:,:2], data[:,2]\n",
    "lr = LR()\n",
    "lr.fit(d,c)\n",
    "plot_2Ddata_with_boundary(lr.predict, d, c)"
   ]
  },
  {
   "cell_type": "markdown",
   "metadata": {},
   "source": [
    "# Ejercicio 2: Métrica de desempeño\n",
    "\n",
    "completa el método `score` para que:\n",
    "\n",
    "- llame al método `predict`\n",
    "- calcule el porcentaje de aciertos de predicción con respecto a `y`"
   ]
  },
  {
   "cell_type": "code",
   "execution_count": 13,
   "metadata": {
    "collapsed": true
   },
   "outputs": [],
   "source": [
    "def LR(**args): # hack for inspect to work with classes\n",
    "    from scipy.optimize import minimize\n",
    "    import numpy as np\n",
    "    \n",
    "    class LR_class:\n",
    "        def fit(self, X, y):\n",
    "            X = ... ## TU CODIGO AQUI\n",
    "            def cost(t):\n",
    "                return ... ## TU CODIGO AQUI\n",
    "\n",
    "            def grad(t):\n",
    "                return ... ## TU CODIGO AQUI\n",
    "\n",
    "            r = minimize(... ## TU CODIGO AQUI)\n",
    "            self.theta = r.x        \n",
    "\n",
    "        def predict(self, X):\n",
    "            X = ... ## TU CODIGO AQUI\n",
    "            return ... ## TU CODIGO AQUI\n",
    "\n",
    "        def g(self, X):\n",
    "            return 1/(1+np.exp(-X))\n",
    "\n",
    "        def score(self, X,y):\n",
    "            return ... ## TU CODIGO AQUI\n",
    "        \n",
    "    return LR_class(**args)\n",
    "\n",
    "import urllib, inspect\n",
    "src2 = urllib.quote_plus(inspect.getsource(LR))"
   ]
  },
  {
   "cell_type": "markdown",
   "metadata": {},
   "source": [
    "comprueba tu código. el porcentaje de acierto debería de ser del 87%"
   ]
  },
  {
   "cell_type": "code",
   "execution_count": 14,
   "metadata": {},
   "outputs": [
    {
     "name": "stdout",
     "output_type": "stream",
     "text": [
      "0.87\n"
     ]
    },
    {
     "data": {
      "image/png": "[encoded data removed]",
      "text/plain": [
       "<matplotlib.figure.Figure at 0xad73b1ac>"
      ]
     },
     "metadata": {},
     "output_type": "display_data"
    }
   ],
   "source": [
    "data = np.loadtxt(\"data/logregdata.csv\", delimiter=\",\", skiprows=1)\n",
    "d,c = data[:,:2], data[:,2]\n",
    "lr = LR()\n",
    "lr.fit(d,c)\n",
    "print lr.score(d,c)\n",
    "plot_2Ddata_with_boundary(lr.predict, d, c)"
   ]
  },
  {
   "cell_type": "markdown",
   "metadata": {},
   "source": [
    "# Ejercicio 3: Función de máxima verosimilitud (MLE) en `sympy`\n",
    "\n",
    "Completa la función siguiente para que devuelva la siguiente expresión en `sympy` usando el dataset cargado en `X` e `y`, para el caso en el que $\\theta \\in \\mathbb{R}^3$\n",
    "\n",
    "$$ - \\sum_{i=0}^{m-1}y^{(i)} log(g(\\mathbf{x}^{(i)}\\theta))+(1-y^{(i)}) log(1-g(\\mathbf{x}^{(i)}\\theta))$$\n",
    "\n",
    "Observa que es el **negativo** del MLE, ya que queremos maximizarlo.\n",
    "\n",
    "Dentro del bucle `for` puedes usar `X[i].dot(t)` para implementar la expresión $\\mathbf{x}^{(i)}\\theta$, y también `y[i]` para $y^{(i)}$. Recuerda que $g(z) = \\frac{1}{1+e^{-z}}$. Para la función exponencial usa `sympy.exp` (no uses `np.exp`)\n",
    "\n",
    "Realiza el ejercicio de forma análoga a las notas de la lección para el caso de la aproximación basada en el coste."
   ]
  },
  {
   "cell_type": "code",
   "execution_count": 17,
   "metadata": {},
   "outputs": [],
   "source": [
    "def MLE():\n",
    "    import numpy as np\n",
    "    import sympy\n",
    "    \n",
    "    data = np.loadtxt(\"data/logregdata.csv\", delimiter=\",\", skiprows=1)\n",
    "    X, y = data[:,:2], data[:,2]\n",
    "    X = np.hstack((np.ones((len(X),1)), X))\n",
    "\n",
    "    t0, t1, t2 = sympy.symbols(\"theta_0 theta_1 theta_2\")\n",
    "    t = np.array([t0,t1,t2])\n",
    "    expr = 0\n",
    "    for i in range(len(X)):\n",
    "\n",
    "        expr += .... # TU CODIGO AQUI\n",
    "        \n",
    "    return -expr\n",
    "\n",
    "import urllib, inspect\n",
    "src3 = urllib.quote_plus(inspect.getsource(MLE))"
   ]
  },
  {
   "cell_type": "markdown",
   "metadata": {},
   "source": [
    "comprueba tu código. el MLE de $\\theta=[0,0,0]$ debe de ser 69.31 aprox."
   ]
  },
  {
   "cell_type": "code",
   "execution_count": 18,
   "metadata": {},
   "outputs": [
    {
     "data": {
      "text/plain": [
       "69.314718055994589"
      ]
     },
     "execution_count": 18,
     "metadata": {},
     "output_type": "execute_result"
    }
   ],
   "source": [
    "import sympy\n",
    "\n",
    "t0, t1, t2 = sympy.symbols(\"theta_0 theta_1 theta_2\")\n",
    "t = np.array([t0,t1,t2])\n",
    "\n",
    "s_cost = sympy.lambdify([t], MLE(), \"numpy\")\n",
    "s_cost([0,0,0])"
   ]
  },
  {
   "cell_type": "markdown",
   "metadata": {},
   "source": [
    "# Ejercicio 4: Derivadas del MLE evaluables en Python"
   ]
  },
  {
   "cell_type": "markdown",
   "metadata": {},
   "source": [
    "fíjate como se obtiene una función evaluable Python del MLE que definiste anteriormente. En particular, observa como en esta ocasión el argumento de `lambdify` es el vector `t`."
   ]
  },
  {
   "cell_type": "code",
   "execution_count": 20,
   "metadata": {},
   "outputs": [
    {
     "data": {
      "text/plain": [
       "69.314718055994589"
      ]
     },
     "execution_count": 20,
     "metadata": {},
     "output_type": "execute_result"
    }
   ],
   "source": [
    "import sympy\n",
    "\n",
    "t0, t1, t2 = sympy.symbols(\"theta_0 theta_1 theta_2\")\n",
    "t = np.array([t0,t1,t2])\n",
    "\n",
    "s_cost = sympy.lambdify([t], MLE(), \"numpy\")\n",
    "s_cost([0,0,0])"
   ]
  },
  {
   "cell_type": "markdown",
   "metadata": {},
   "source": [
    "siguiendo este ejemplo, completa la siguiente función para que devuelva la función gradiente evaluable en Python de la expresión `sympy` pasada como argumento, de forma análoga a las notas de la lección para el caso de la aproximación basada en el coste, para el caso en el que $\\theta \\in \\mathbb{R}^3$"
   ]
  },
  {
   "cell_type": "code",
   "execution_count": 21,
   "metadata": {
    "collapsed": true
   },
   "outputs": [],
   "source": [
    "def grad_MLE(expr):\n",
    "    import numpy as np\n",
    "    import sympy\n",
    "\n",
    "    t0, t1, t2 = sympy.symbols(\"theta_0 theta_1 theta_2\")\n",
    "    t = np.array([t0,t1,t2])  \n",
    "    \n",
    "    expr_dt0 = expr.diff(t0)    # dejar este al estudiante\n",
    "    expr_dt1 = ... # TU CODIGO AQUI\n",
    "    expr_dt2 = ... # TU CODIGO AQUI\n",
    "    \n",
    "    d0 = sympy.lambdify( ... # TU CODIGO AQUI )\n",
    "    d1 = sympy.lambdify( ... # TU CODIGO AQUI )\n",
    "    d2 = sympy.lambdify( ... # TU CODIGO AQUI )\n",
    "\n",
    "    s_grad = lambda x: np.array([d0(x), d1(x), d2(x)])\n",
    "    \n",
    "    return s_grad\n",
    "\n",
    "import urllib, inspect\n",
    "src4 = urllib.quote_plus(inspect.getsource(grad_MLE))"
   ]
  },
  {
   "cell_type": "markdown",
   "metadata": {},
   "source": [
    "comprueba tu código:\n",
    "   \n",
    "- en $\\theta=[ 0.39235424,  1.35433531, -4.27952082]$ el gradiente debería de ser [0,0,0] \n",
    "- en $\\theta=[0, 0,0]$ el gradiente debería de ser [0, -25.5, 17] aprox.\n",
    "- si usas el minimizador con tus funciones, el valor de $\\theta$ donde el gradiente es [0,0,0]"
   ]
  },
  {
   "cell_type": "code",
   "execution_count": 22,
   "metadata": {},
   "outputs": [
    {
     "name": "stdout",
     "output_type": "stream",
     "text": [
      "[ -5.58210443e-06  -3.51739548e-06  -6.79990622e-06]\n",
      "[  0.     -25.493   16.9995]\n"
     ]
    },
    {
     "data": {
      "text/plain": [
       "      fun: 31.98941457292217\n",
       " hess_inv: array([[ 0.1761762 , -0.05877728, -0.20858724],\n",
       "       [-0.05877728,  0.13795671, -0.02692387],\n",
       "       [-0.20858724, -0.02692387,  0.92113158]])\n",
       "      jac: array([  3.64096191e-06,  -6.66784017e-06,   7.75077448e-06])\n",
       "  message: 'Optimization terminated successfully.'\n",
       "     nfev: 14\n",
       "      nit: 10\n",
       "     njev: 14\n",
       "   status: 0\n",
       "  success: True\n",
       "        x: array([ 0.39235294,  1.35433385, -4.27950871])"
      ]
     },
     "execution_count": 22,
     "metadata": {},
     "output_type": "execute_result"
    }
   ],
   "source": [
    "import sympy\n",
    "import numpy as np\n",
    "from scipy.optimize import minimize\n",
    "\n",
    "t0, t1, t2 = sympy.symbols(\"theta_0 theta_1 theta_2\")\n",
    "t = np.array([t0,t1,t2])  \n",
    "\n",
    "MLE_expression = MLE()\n",
    "s_cost = sympy.lambdify([t], MLE_expression, \"numpy\")\n",
    "s_grad = grad_MLE(MLE_expression)\n",
    "print s_grad([ 0.39235424,  1.35433531, -4.27952082])\n",
    "print s_grad([0,0,0])\n",
    "\n",
    "r = minimize(s_cost, np.zeros(len(t)), jac=s_grad, method=\"BFGS\")\n",
    "r"
   ]
  },
  {
   "cell_type": "code",
   "execution_count": null,
   "metadata": {
    "collapsed": true
   },
   "outputs": [],
   "source": []
  }
 ],
 "metadata": {
  "kernelspec": {
   "display_name": "Python 2",
   "language": "python",
   "name": "python2"
  },
  "language_info": {
   "codemirror_mode": {
    "name": "ipython",
    "version": 2
   },
   "file_extension": ".py",
   "mimetype": "text/x-python",
   "name": "python",
   "nbconvert_exporter": "python",
   "pygments_lexer": "ipython2",
   "version": "2.7.14"
  },
  "toc": {
   "toc_cell": false,
   "toc_number_sections": false,
   "toc_threshold": 6,
   "toc_window_display": false
  }
 },
 "nbformat": 4,
 "nbformat_minor": 1
}
